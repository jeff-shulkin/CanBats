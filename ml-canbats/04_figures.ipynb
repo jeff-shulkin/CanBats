{
 "cells": [
  {
   "cell_type": "code",
   "execution_count": 8,
   "id": "90abc2cf",
   "metadata": {},
   "outputs": [
    {
     "name": "stdout",
     "output_type": "stream",
     "text": [
      "/bin/bash: line 1: conda: command not found\n"
     ]
    }
   ],
   "source": [
    "# Spectogram library\n",
    "import sys\n",
    "!conda install --yes --prefix {sys.prefix} librosa\n"
   ]
  },
  {
   "cell_type": "code",
   "execution_count": 9,
   "id": "77520dd9",
   "metadata": {},
   "outputs": [
    {
     "data": {
      "text/plain": [
       "<matplotlib.pyplot._IoffContext at 0x7f4260626e00>"
      ]
     },
     "execution_count": 9,
     "metadata": {},
     "output_type": "execute_result"
    }
   ],
   "source": [
    "# Imports available via the AWS Sagemaker python3 kernel.\n",
    "import colorsys\n",
    "import glob\n",
    "import io\n",
    "import math\n",
    "import random\n",
    "from collections import namedtuple\n",
    "\n",
    "import librosa\n",
    "import librosa.display\n",
    "import matplotlib.patches as patches\n",
    "import matplotlib.pyplot as plt\n",
    "import numpy as np\n",
    "from IPython.display import Image\n",
    "from PIL import Image\n",
    "\n",
    "%matplotlib inline\n",
    "plt.ioff()\n"
   ]
  },
  {
   "cell_type": "code",
   "execution_count": 10,
   "id": "73915d50",
   "metadata": {},
   "outputs": [],
   "source": [
    "# Define where the files of bat recordings in .wav format are located.\n",
    "directory = './WavesW'\n",
    "files = glob.glob('{}/**/*.wav'.format(directory), recursive=True)\n",
    "\n",
    "# Take a matplotlib figure and return it as an image buffer.\n",
    "def fig2data(fig):\n",
    "    fig.canvas.draw()\n",
    "    w, h = fig.canvas.get_width_height()\n",
    "    buf = np.fromstring(fig.canvas.tostring_rgb(), dtype=np.uint8)\n",
    "    buf.shape = (h, w, 3)\n",
    "    return buf\n",
    "\n",
    "# Subtract the median values of each row and column from every pixel in \n",
    "# the array and then clip all pixels with resulting values < 0.\n",
    "def _denoise_spec(spec):\n",
    "    spec = spec - np.median(spec, axis=1, keepdims=True)\n",
    "    spec = spec - np.median(spec, axis=0, keepdims=True)\n",
    "    spec.clip(min=0, out=spec)\n",
    "    return spec"
   ]
  },
  {
   "cell_type": "code",
   "execution_count": 11,
   "id": "6f8aece2",
   "metadata": {},
   "outputs": [
    {
     "name": "stdout",
     "output_type": "stream",
     "text": [
      "./waves/p163_g024307_f270578_anpa.wav\n"
     ]
    }
   ],
   "source": [
    "# Pick a random file and print it.\n",
    "random.shuffle(files)\n",
    "file = files[0]\n",
    "file = \"./waves/p163_g024307_f270578_anpa.wav\"\n",
    "print(file)\n"
   ]
  },
  {
   "cell_type": "code",
   "execution_count": 12,
   "id": "1bb240d4",
   "metadata": {},
   "outputs": [],
   "source": [
    "\n",
    "# Plot a single spectrogram containing multiple potential pulses.\n",
    "def make_large_spectrogram(sig, sr, name, low=5000, high=100000):\n",
    "\n",
    "    root_size = int(0.001 * sr)  # 1.0ms resolution\n",
    "    hop_length = int(root_size/4)\n",
    "    fig = plt.figure(figsize=(10, 2), dpi=100)\n",
    "    ax = fig.add_axes([0, 0, 1, 1])\n",
    "    plt.margins(0)\n",
    "\n",
    "    ax.clear()\n",
    "\n",
    "    # Plot\n",
    "    librosa.display.specshow(\n",
    "        sig, sr=sr, hop_length=hop_length, x_axis='s', y_axis='linear', ax=ax)\n",
    "\n",
    "    ax.set_ylim(low, high)\n",
    "\n",
    "    plt.xlabel('time (s)')\n",
    "    plt.ylabel('Frequency Hz')\n",
    "\n",
    "    fig.savefig(name, dpi=100, bbox_inches='tight', pad_inches=0)\n",
    "    return name\n",
    "\n",
    "\n",
    "# Plot a spectrogram containing a single potential pulse.\n",
    "def make_small_spectrograms(sig, sr, name, low=5000, high=100000):\n",
    "\n",
    "    root_size = int(0.001 * sr)  # 1.0ms resolution\n",
    "    hop_length = int(root_size/4)\n",
    "    fig = plt.figure(figsize=(1, 1), dpi=100)\n",
    "    ax = fig.add_axes([0, 0, 1, 1])\n",
    "    plt.margins(0)\n",
    "    ax.clear()\n",
    "\n",
    "    # Plot\n",
    "    librosa.display.specshow(\n",
    "        sig, sr=sr, hop_length=hop_length, x_axis='s', y_axis='linear', ax=ax)\n",
    "\n",
    "    ax.set_ylim(low, high)\n",
    "    ax.axis('off')\n",
    "\n",
    "    fig.savefig(name, dpi=100, bbox_inches='tight', pad_inches=0)\n",
    "    return name\n"
   ]
  },
  {
   "cell_type": "code",
   "execution_count": 13,
   "id": "9fd352aa",
   "metadata": {
    "scrolled": false
   },
   "outputs": [],
   "source": [
    "\n",
    "# Load the file and crop along horizontal axis to represent first 1000 ms.\n",
    "sig, sr = librosa.load(file, sr=None)  # read the wav file\n",
    "sig = sig[0*sr:1*sr]\n",
    "\n",
    "root_size = int(0.001 * sr)  # 1.0ms resolution\n",
    "hop_length = int(root_size/4)\n",
    "\n",
    "# Short-time Fourier Transform.\n",
    "stft_spec_window = librosa.stft(sig, n_fft=root_size, hop_length=hop_length, win_length=root_size,\n",
    "                                window='hamming')\n",
    "\n",
    "# Calculate and filter data for the spectrogram.\n",
    "stft_spec_window = np.abs(stft_spec_window) ** 2\n",
    "stft_spec_window = librosa.power_to_db(stft_spec_window)\n",
    "frequency_bands = librosa.fft_frequencies(sr=sr, n_fft=root_size)\n",
    "\n",
    "# Set bandpass filter from 5-100 kHz\n",
    "for i, b in enumerate(frequency_bands):\n",
    "    if b <= 5000 or b >= min(100000, (sr / 2) - 2000):\n",
    "        stft_spec_window[i] = [-500] * len(stft_spec_window[i])\n",
    "\n",
    "# Plot the spectrogram.\n",
    "stft_spec_window = _denoise_spec(stft_spec_window)\n",
    "img = make_large_spectrogram(stft_spec_window, sr, '1.png')\n",
    "Image.open('1.png').show()\n",
    "plt.close('all')\n"
   ]
  },
  {
   "cell_type": "code",
   "execution_count": 14,
   "id": "97768066",
   "metadata": {},
   "outputs": [
    {
     "name": "stdout",
     "output_type": "stream",
     "text": [
      "Time: 314.75 ms, Frequency: 22000.0 Hz, SNR: 16.89, Amplitude: 26.17 db\n",
      "Time: 396.25 ms, Frequency: 21000.0 Hz, SNR: 11.52, Amplitude: 29.29 db\n",
      "Time: 459.5 ms, Frequency: 21000.0 Hz, SNR: 14.67, Amplitude: 32.50 db\n",
      "Time: 536.25 ms, Frequency: 21000.0 Hz, SNR: 13.66, Amplitude: 32.87 db\n",
      "Time: 697.25 ms, Frequency: 27000.0 Hz, SNR: 17.57, Amplitude: 32.69 db\n",
      "Time: 982.0 ms, Frequency: 27000.0 Hz, SNR: 18.69, Amplitude: 34.01 db\n"
     ]
    }
   ],
   "source": [
    "\n",
    "\n",
    "# Load the file and crop along horizontal axis to represent first 1000 ms.\n",
    "sig, sr = librosa.load(file, sr=None)  # read the wav file\n",
    "sig = sig[0*sr:1*sr]\n",
    "\n",
    "# Loop over file and create sampling windows.\n",
    "for i in range(50, min(math.ceil((len(sig) / float(sr)) * 1000), 99999999), int(50 * (1 - 0.4))):\n",
    "    start = (i - 50) / \\\n",
    "        1000  # where to start in seconds\n",
    "    end = i/1000  # where to end in seconds\n",
    "    # Get the portion of the signal we are interested in.\n",
    "    fsig = sig[int((start * sr)):int((end * sr))]\n",
    "\n",
    "    root_size = int(0.001 * sr)  # 1.0ms resolution\n",
    "    hop_length = int(root_size/4)\n",
    "\n",
    "    # Short-time Fourier Transform\n",
    "    stft_spec_window = librosa.stft(fsig, n_fft=root_size, hop_length=hop_length, win_length=root_size,\n",
    "                                    window='hamming')\n",
    "\n",
    "    # Calculate and filter data for the spectrogram.\n",
    "    stft_spec_window = np.abs(stft_spec_window) ** 2\n",
    "    stft_spec_window = librosa.power_to_db(stft_spec_window)\n",
    "\n",
    "    frequency_bands = librosa.fft_frequencies(sr=sr, n_fft=root_size)\n",
    "\n",
    "    # Set bandpass filter from 5-100 kHz.\n",
    "    for j, b in enumerate(frequency_bands):\n",
    "        if b <= 5000 or b >= min(100000, (sr / 2) - 2000):\n",
    "            stft_spec_window[j] = [-500] * len(stft_spec_window[j])\n",
    "\n",
    "      # Find the index value for the loudest sound in the spectrogram,\n",
    "      # which is hopefully a bat pulse.\n",
    "    index = np.unravel_index(\n",
    "        stft_spec_window.argmax(), stft_spec_window.shape)\n",
    "    time_index = index[1]  # time\n",
    "    frequency_index = index[0]  # frequency\n",
    "\n",
    "    # Convert index values to real values of seconds and Hz.\n",
    "    peak_frequency = frequency_bands[frequency_index]\n",
    "    peak_time = time_index/4\n",
    "\n",
    "    # Make sure the peak frequency of each spectrogram is within bat frequency range\n",
    "    # and does not overlap the analysis matrix edge.\n",
    "    if peak_time < 50 * 0.2 or peak_time > 50 * 0.8:\n",
    "        continue\n",
    "    elif peak_frequency <= 5000 or peak_frequency >= min(100000, (sr / 2) - 2000):\n",
    "        continue\n",
    "\n",
    "    # Denoise the sonogram after finding peak time and frequency.\n",
    "    stft_spec_window = _denoise_spec(stft_spec_window)\n",
    "\n",
    "    # Calculate window characteristics.\n",
    "    freq_amp = stft_spec_window[frequency_index]\n",
    "    r_other = np.sum(stft_spec_window) / \\\n",
    "        (len(stft_spec_window) * len(stft_spec_window[0]))\n",
    "    rsig = sum(freq_amp[time_index - 4: time_index + 6]) / 10\n",
    "    signal_noise_ratio = rsig/r_other\n",
    "    amplitude = freq_amp[time_index]\n",
    "\n",
    "    if signal_noise_ratio >= 7 and amplitude >= 21:\n",
    "        print('Time: {} ms, Frequency: {} Hz, SNR: {:.2f}, Amplitude: {:.2f} db'.format(i + peak_time, peak_frequency, signal_noise_ratio, amplitude))\n",
    "        img = make_small_spectrograms(\n",
    "            stft_spec_window, sr, '{}y.png'.format(i))\n",
    "        Image.open('{}y.png'.format(i)).show()\n"
   ]
  },
  {
   "cell_type": "code",
   "execution_count": null,
   "id": "31bad556",
   "metadata": {},
   "outputs": [],
   "source": []
  }
 ],
 "metadata": {
  "kernelspec": {
   "display_name": "Python 3",
   "language": "python",
   "name": "python3"
  },
  "language_info": {
   "codemirror_mode": {
    "name": "ipython",
    "version": 3
   },
   "file_extension": ".py",
   "mimetype": "text/x-python",
   "name": "python",
   "nbconvert_exporter": "python",
   "pygments_lexer": "ipython3",
   "version": "3.10.12"
  }
 },
 "nbformat": 4,
 "nbformat_minor": 5
}
